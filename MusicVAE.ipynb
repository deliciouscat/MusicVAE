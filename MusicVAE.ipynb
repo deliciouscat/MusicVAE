{
  "cells": [
    {
      "cell_type": "code",
      "execution_count": 1,
      "metadata": {
        "colab": {
          "base_uri": "https://localhost:8080/"
        },
        "id": "8zhQ-i9HPVEi",
        "outputId": "751a2522-6302-4c3b-ffe9-3c9f7db43615"
      },
      "outputs": [
        {
          "output_type": "stream",
          "name": "stdout",
          "text": [
            "Looking in indexes: https://pypi.org/simple, https://us-python.pkg.dev/colab-wheels/public/simple/\n",
            "Collecting mido\n",
            "  Downloading mido-1.2.10-py2.py3-none-any.whl (51 kB)\n",
            "\u001b[2K     \u001b[90m━━━━━━━━━━━━━━━━━━━━━━━━━━━━━━━━━━━━━━━━\u001b[0m \u001b[32m51.1/51.1 KB\u001b[0m \u001b[31m2.9 MB/s\u001b[0m eta \u001b[36m0:00:00\u001b[0m\n",
            "\u001b[?25hInstalling collected packages: mido\n",
            "Successfully installed mido-1.2.10\n"
          ]
        }
      ],
      "source": [
        "!pip install mido"
      ]
    },
    {
      "cell_type": "markdown",
      "source": [
        "## 모델구조\n",
        "Seq2Seq 구조를 기본으로 하며, 몇가지 특이점이 있음.\n",
        "\n",
        "#### Encoder : Bi-directional LSTM\n",
        "\n",
        "context vector는 $h^{\\leftarrow}_T$와 $h^{\\rightarrow}_T$를 concatenate하여 사용한다.\n",
        "\n",
        "\n",
        "#### Decoder : Hierarchical RNN\n",
        "\n",
        "'Conductor'layer를 통해 root에 해당하는 sequence를 생성하고, root의 token값을 사용하여 subsequence를 생성한다. subsequence의 input으로 root token(conductor state)과 이전 cell의 output을 concat한 값 사용. subsequnence의 initial hidden state는 conductor state의 tanh값을 쓴다.\n",
        "\n",
        "해당 구조를 통해 gradient vanishing 문제를 완화할 수 있음.\n",
        "\n",
        "(디코더이므로) 단방향 LSTM 사용.\n",
        "\n",
        "## 학습 및 추론\n",
        "Variational Auto-Encoder 구조는 mini-batch 내 datapoint들의 평균과 표준편차(또는 분산)를 추론에 사용한다. (표준편차를 이용한 noise가 낀 latent vector를 복원하는 형태로 학습) 이를 통해 학습 시 latent space를 dense하게 구성할 수 있으며, 추론 시 출력물의 형태가 다양할 수 있다."
      ],
      "metadata": {
        "id": "vVB_mVmdIh6s"
      }
    },
    {
      "cell_type": "code",
      "execution_count": 3,
      "metadata": {
        "id": "Fs_UcWnGV6Sr"
      },
      "outputs": [],
      "source": [
        "import numpy as np\n",
        "import pandas as pd\n",
        "\n",
        "import torch\n",
        "import torch.nn as nn\n",
        "import torch.nn.functional as F\n",
        "\n",
        "import tensorflow as tf\n",
        "import tensorflow_datasets as tfds\n",
        "\n",
        "import mido"
      ]
    },
    {
      "cell_type": "code",
      "execution_count": 10,
      "metadata": {
        "id": "yc4CHv3emPIu"
      },
      "outputs": [],
      "source": [
        "# input에 외부 feature(conductor vector)을 concat하여 input하는 구조를 구현하기 위해 custom LSTM cell 정의\n",
        "class LSTMCell_ExternalFeat(nn.Module):\n",
        "    def __init__(self, input_size, hidden_size):\n",
        "        super(LSTMCell_ExternalFeat, self).__init__()\n",
        "        self.input_size = input_size\n",
        "        self.hidden_size = hidden_size\n",
        "\n",
        "        # Input gate weights\n",
        "        self.W_ix = nn.Linear(input_size, hidden_size)\n",
        "        self.W_ih = nn.Linear(hidden_size, hidden_size)\n",
        "        self.b_i = nn.Parameter(torch.zeros(hidden_size))\n",
        "\n",
        "        # Forget gate weights\n",
        "        self.W_fx = nn.Linear(input_size, hidden_size)\n",
        "        self.W_fh = nn.Linear(hidden_size, hidden_size)\n",
        "        self.b_f = nn.Parameter(torch.zeros(hidden_size))\n",
        "\n",
        "        # Cell weights\n",
        "        self.W_cx = nn.Linear(input_size, hidden_size)\n",
        "        self.W_ch = nn.Linear(hidden_size, hidden_size)\n",
        "        self.b_c = nn.Parameter(torch.zeros(hidden_size))\n",
        "\n",
        "        # Output gate weights\n",
        "        self.W_ox = nn.Linear(input_size, hidden_size)\n",
        "        self.W_oh = nn.Linear(hidden_size, hidden_size)\n",
        "        self.b_o = nn.Parameter(torch.zeros(hidden_size))\n",
        "\n",
        "    def forward(self, x, hidden, ext):    # ext로 차원 맞춰야하니까 W_~x는 input size 두배여야 함.\n",
        "        x = torch.cat([x, ext])           # conducter feature를 concat.\n",
        "        h, c = hidden\n",
        "        i = torch.sigmoid(self.W_ix(x) + self.W_ih(h) + self.b_i)\n",
        "        f = torch.sigmoid(self.W_fx(x) + self.W_fh(h) + self.b_f)\n",
        "        c = f * c + i * torch.tanh(self.W_cx(x) + self.W_ch(h) + self.b_c)\n",
        "        o = torch.sigmoid(self.W_ox(x) + self.W_oh(h) + self.b_o)\n",
        "        h = o * torch.tanh(c)\n",
        "\n",
        "        return h, c"
      ]
    },
    {
      "cell_type": "code",
      "execution_count": 17,
      "metadata": {
        "id": "oEltPXFoYro8"
      },
      "outputs": [],
      "source": [
        "class Encoder(nn.Module):\n",
        "    def __init__(self, input_size, hidden_size):\n",
        "        super(Encoder, self).__init__()\n",
        "        self.hidden_size = hidden_size\n",
        "        self.embedding = nn.Embedding(input_size, hidden_size)      # 드럼의 타입\n",
        "        self.lstm1 = nn.LSTM(hidden_size, hidden_size, bidirectional=True)  # 2-Layer Bi-LSTM\n",
        "        self.lstm2 = nn.LSTM(hidden_size, hidden_size, bidirectional=True)\n",
        "        self.out1  = nn.Linear(hidden_size*2, hidden_size)\n",
        "        self.out2  = nn.Linear(hidden_size*2, hidden_size)\n",
        "\n",
        "    # 다음 논문에서 제시된 방식으로 차원 유지 : Schuster, M. and Paliwal, K. K. Bidirectional recurrent neural networks. 1997.\n",
        "    def forward(self, input):\n",
        "        embedded = self.embedding(input)\n",
        "        output, hidden = self.lstm1(embedded)\n",
        "        output = self.out1(output)\n",
        "        output, hidden = self.lstm1(output)\n",
        "        hidden = self.out2(hidden)          # context vector : Bi-directional output\n",
        "        return hidden, #output\n",
        "\n",
        "\n",
        "class Reparameterize(nn.Module):\n",
        "    def __init__(self, input_size, hidden_size):\n",
        "        super(Reparameterize, self).__init__()\n",
        "        self.input_size = input_size\n",
        "        self.hidden_size = hidden_size\n",
        "        self.Wmu = nn.Linear(input_size, hidden_size)\n",
        "        self.Wstd = nn.Linear(input_size, hidden_size)\n",
        "\n",
        "    def forward(self, context) :\n",
        "        mu  = self.Wmu(context)                             # µ = W_hµ * h_T + b_µ\n",
        "        std = torch.log(torch.exp(self.Wstd(context)) + 1)  # σ = log (exp(W_hσ * h_T + b_σ) + 1)\n",
        "        eps = torch.randn_like(std)\n",
        "        z = mu + eps*std                                    # ε ∼ N (0, I), z = µ + σ ⊙ ε\n",
        "        return z\n",
        "\n",
        "\n",
        "class Decoder(nn.Module):\n",
        "    def __init__(self, input_size, hidden_size, output_size):\n",
        "        super(Decoder, self).__init__()\n",
        "        self.input_size = input_size\n",
        "        self.hidden_size = hidden_size\n",
        "        self.output_size = output_size\n",
        "\n",
        "        self.lstm1 = nn.LSTM(hidden_size, hidden_size)\n",
        "        self.lstm2_cell = LSTMCell_ExternalFeat(input_size, hidden_size)\n",
        "        self.fc_init = nn.Linear(hidden_size, hidden_size)\n",
        "        self.fc_out = nn.Linear(hidden_size, output_size)\n",
        "\n",
        "        self.tanh = nn.Tanh()\n",
        "        \n",
        "    def forward(self, encoder_output, target_seq):      # target seq len == 4*conducter seq len\n",
        "        batch_size, max_seq_len, _ = target_seq.shape\n",
        "        output_seq = torch.zeros(batch_size, max_seq_len, self.output_size)     # 최종 output\n",
        "        cu,_ = self.lstm1(self.input_size, self.hidden_size)         # 1st LSTM Layer : Conducter\n",
        "\n",
        "        # 2nd LSTM Layer : Decoder (LSTM w/ External input)\n",
        "        inits = self.tanh(self.fc_init(cu))\n",
        "        cell_state = torch.zeros(batch_size, 1, self.hidden_size)\n",
        "        output = torch.zeros(batch_size, 1, self.output_size)\n",
        "        for c, i, u in zip(cu, inits, range(max_seq_len//4)) :      # 논문에선 16마디 제시. 과제 안내에서 4 마디 제시.\n",
        "            hidden_state = i\n",
        "            for t in range(4):            # 4 x u + t 에 넣게 바꾸자\n",
        "                lstm_input = torch.cat([c, output], dim=1)  # Concatenate External Feature\n",
        "                hidden_state, cell_state = self.lstm2_cell(lstm_input, (hidden_state, cell_state))  # LSTM Cell\n",
        "                output = self.fc_out(hidden_state)          # Output Layer\n",
        "                output_seq[:, 4*u + t, :] = output          # Save the Output\n",
        "        \n",
        "        return output_seq\n",
        "\n",
        "def loss_function(self, x_recon, x, mu, logvar):\n",
        "    BCE = F.binary_cross_entropy(x_recon, x.view(-1, \"##input_size\"), reduction='sum')\n",
        "    KLD = -0.5 * torch.sum(1 + logvar - mu.pow(2) - logvar.exp())\n",
        "    return BCE + KLD        # E[log pθ(x|z)] − β KL(qλ(z|x)||p(z))"
      ]
    },
    {
      "cell_type": "code",
      "execution_count": 20,
      "metadata": {
        "id": "TcwCxjUjAsy6"
      },
      "outputs": [],
      "source": [
        "encoder = Encoder(input_size=2048 , hidden_size=512).to('cuda')\n",
        "reparameterize = Reparameterize(input_size=512 , hidden_size=512).to('cuda')\n",
        "decoder = Decoder(input_size=1024 , hidden_size=1024 , output_size=512).to('cuda')"
      ]
    },
    {
      "cell_type": "code",
      "execution_count": 4,
      "metadata": {
        "id": "3hagWkfhl-xB",
        "colab": {
          "base_uri": "https://localhost:8080/"
        },
        "outputId": "3ee13e24-b56f-43a8-b60f-f9ce2e91106e"
      },
      "outputs": [
        {
          "output_type": "stream",
          "name": "stderr",
          "text": [
            "WARNING:absl:You use TensorFlow DType <dtype: 'string'> in tfds.features This will soon be deprecated in favor of NumPy DTypes. In the meantime it was converted to object.\n",
            "WARNING:absl:You use TensorFlow DType <dtype: 'int32'> in tfds.features This will soon be deprecated in favor of NumPy DTypes. In the meantime it was converted to int32.\n"
          ]
        }
      ],
      "source": [
        "# dataset 불러오기. binary MIDI 표현으로 되어있음.\n",
        "dataset = tfds.load(\n",
        "    name=\"groove/full-midionly\",\n",
        "    split=tfds.Split.TRAIN,\n",
        "    try_gcs=True)"
      ]
    },
    {
      "cell_type": "code",
      "execution_count": 5,
      "metadata": {
        "id": "Pzp1zqBWDKMx"
      },
      "outputs": [],
      "source": [
        "numpy_ds = dataset.as_numpy_iterator()\n",
        "binary_codes = []\n",
        "for beats in numpy_ds :\n",
        "    binary_codes.append(beats['midi'])  # 딕셔너리 내에서 다른 정보 제외하고 binary MIDI 데이터만 추출\n",
        "\n",
        "# mido 라이브러리로 다룰 수 있도록 전처리\n",
        "midi_dats=[]\n",
        "for b in binary_codes :\n",
        "    with open('tmp.mid', 'wb') as f:\n",
        "        f.write(b)\n",
        "    midi_dats.append(mido.MidiFile('tmp.mid'))"
      ]
    },
    {
      "cell_type": "code",
      "source": [
        "# 데이터 확인\n",
        "# 사용할 수 있는 feature : channel(악기), velocity(강도), note(음 높낮이)\n",
        "# time값을 sequence 상의 위치로 사용.\n",
        "for track in midi_dats[42].tracks:\n",
        "    print(track.name)\n",
        "    for msg in track:\n",
        "        print(msg)"
      ],
      "metadata": {
        "colab": {
          "base_uri": "https://localhost:8080/"
        },
        "id": "dXYyLrPgGeAt",
        "outputId": "fb84568c-fdd3-439c-9844-d96530cdadfe"
      },
      "execution_count": 26,
      "outputs": [
        {
          "output_type": "stream",
          "name": "stdout",
          "text": [
            "Midi Drums\n",
            "MetaMessage('track_name', name='Midi Drums', time=0)\n",
            "MetaMessage('instrument_name', name='Brooklyn', time=0)\n",
            "MetaMessage('time_signature', numerator=4, denominator=4, clocks_per_click=24, notated_32nd_notes_per_beat=8, time=0)\n",
            "MetaMessage('key_signature', key='C', time=0)\n",
            "MetaMessage('smpte_offset', frame_rate=24, hours=33, minutes=0, seconds=0, frames=0, sub_frames=0, time=0)\n",
            "MetaMessage('set_tempo', tempo=857143, time=0)\n",
            "control_change channel=9 control=4 value=90 time=0\n",
            "note_on channel=9 note=36 velocity=51 time=0\n",
            "note_on channel=9 note=22 velocity=127 time=8\n",
            "control_change channel=9 control=4 value=90 time=45\n",
            "note_on channel=9 note=42 velocity=27 time=0\n",
            "note_off channel=9 note=36 velocity=64 time=4\n",
            "note_off channel=9 note=22 velocity=64 time=8\n",
            "control_change channel=9 control=4 value=90 time=35\n",
            "note_on channel=9 note=42 velocity=58 time=0\n",
            "note_off channel=9 note=42 velocity=64 time=0\n",
            "note_off channel=9 note=42 velocity=64 time=10\n",
            "control_change channel=9 control=4 value=90 time=26\n",
            "note_on channel=9 note=42 velocity=50 time=0\n",
            "note_off channel=9 note=42 velocity=64 time=22\n",
            "note_on channel=9 note=42 velocity=40 time=3\n",
            "control_change channel=9 control=4 value=90 time=26\n",
            "note_on channel=9 note=42 velocity=41 time=0\n",
            "note_off channel=9 note=42 velocity=64 time=0\n",
            "note_off channel=9 note=42 velocity=64 time=6\n",
            "note_on channel=9 note=42 velocity=29 time=13\n",
            "note_on channel=9 note=36 velocity=57 time=10\n",
            "note_off channel=9 note=42 velocity=64 time=2\n",
            "control_change channel=9 control=4 value=90 time=11\n",
            "note_on channel=9 note=22 velocity=126 time=0\n",
            "note_off channel=9 note=36 velocity=64 time=43\n",
            "note_off channel=9 note=22 velocity=64 time=14\n",
            "control_change channel=9 control=4 value=90 time=41\n",
            "note_on channel=9 note=42 velocity=16 time=0\n",
            "note_off channel=9 note=42 velocity=64 time=57\n",
            "control_change channel=9 control=4 value=90 time=67\n",
            "note_on channel=9 note=22 velocity=127 time=0\n",
            "note_off channel=9 note=22 velocity=64 time=56\n",
            "control_change channel=9 control=4 value=90 time=26\n",
            "note_on channel=9 note=42 velocity=99 time=0\n",
            "note_off channel=9 note=42 velocity=64 time=56\n",
            "control_change channel=9 control=4 value=90 time=34\n",
            "note_on channel=9 note=22 velocity=127 time=0\n",
            "note_off channel=9 note=22 velocity=64 time=56\n",
            "control_change channel=9 control=4 value=90 time=29\n",
            "note_on channel=9 note=42 velocity=119 time=0\n",
            "note_off channel=9 note=42 velocity=64 time=57\n",
            "control_change channel=9 control=4 value=90 time=33\n",
            "note_on channel=9 note=22 velocity=127 time=0\n",
            "note_off channel=9 note=22 velocity=64 time=57\n",
            "control_change channel=9 control=4 value=90 time=17\n",
            "note_on channel=9 note=22 velocity=127 time=0\n",
            "note_off channel=9 note=22 velocity=64 time=57\n",
            "control_change channel=9 control=4 value=90 time=33\n",
            "note_on channel=9 note=22 velocity=127 time=0\n",
            "note_off channel=9 note=22 velocity=64 time=57\n",
            "control_change channel=9 control=4 value=90 time=185\n",
            "note_on channel=9 note=22 velocity=127 time=0\n",
            "note_off channel=9 note=22 velocity=64 time=56\n",
            "control_change channel=9 control=4 value=90 time=172\n",
            "note_on channel=9 note=42 velocity=127 time=0\n",
            "note_on channel=9 note=38 velocity=85 time=55\n",
            "note_off channel=9 note=42 velocity=64 time=2\n",
            "control_change channel=9 control=4 value=90 time=42\n",
            "note_on channel=9 note=42 velocity=83 time=0\n",
            "note_off channel=9 note=38 velocity=64 time=12\n",
            "note_off channel=9 note=42 velocity=64 time=45\n",
            "control_change channel=9 control=4 value=90 time=19\n",
            "note_on channel=9 note=22 velocity=96 time=0\n",
            "note_on channel=9 note=38 velocity=70 time=45\n",
            "note_off channel=9 note=22 velocity=64 time=11\n",
            "note_off channel=9 note=38 velocity=64 time=46\n",
            "control_change channel=9 control=4 value=90 time=3\n",
            "note_on channel=9 note=22 velocity=110 time=0\n",
            "note_on channel=9 note=38 velocity=94 time=44\n",
            "note_off channel=9 note=22 velocity=64 time=13\n",
            "note_off channel=9 note=38 velocity=64 time=43\n",
            "MetaMessage('end_of_track', time=0)\n"
          ]
        }
      ]
    },
    {
      "cell_type": "code",
      "source": [
        "# 드럼 비트를 이진수 형태로 변환\n",
        "drum_beats=[]\n",
        "max_time=[]\n",
        "for msg in midi_dats[70].tracks :\n",
        "    for i in msg : max_time.append(i.time)\n",
        "max_time = max(max_time)\n",
        "\n",
        "for msg in midi_dats[70].tracks:\n",
        "    for beat in msg :\n",
        "        if type(beat) != mido.messages.messages.Message :\n",
        "            continue    # MetaMessage 건너뛰기\n",
        "        if beat.type == 'note_on':\n",
        "            # note_on 메시지에서 드럼 비트 정보 추출\n",
        "            note = beat.note    # 음 높낮이\n",
        "            time = beat.time    # 음이 찍힌 시간\n",
        "            # 드럼 비트가 존재하는 경우에만 이진수로 변환\n",
        "            drum_beat = np.zeros(max_time+1)\n",
        "            drum_beat[time] = 1\n",
        "            drum_beats.append(drum_beat)\n",
        "# numpy 배열로 변환\n",
        "drum_beats = sum(np.array(drum_beats))"
      ],
      "metadata": {
        "id": "CJ5ZntGhIKje"
      },
      "execution_count": 77,
      "outputs": []
    },
    {
      "cell_type": "code",
      "source": [
        "drum_beats"
      ],
      "metadata": {
        "colab": {
          "base_uri": "https://localhost:8080/"
        },
        "id": "Qr-ysg2sDeVm",
        "outputId": "7f4b53e1-ce2d-4881-ce90-5d08917ae3ff"
      },
      "execution_count": 78,
      "outputs": [
        {
          "output_type": "execute_result",
          "data": {
            "text/plain": [
              "array([1., 2., 0., 2., 0., 3., 0., 0., 0., 1., 0., 0., 0., 2., 0., 1., 0.,\n",
              "       0., 0., 0., 0., 1., 0., 0., 0., 0., 0., 0., 0., 2., 0., 0., 0., 0.,\n",
              "       1., 0., 1., 2., 0., 0., 0., 0., 2., 1., 1., 0., 2., 1., 0., 1., 0.,\n",
              "       0., 1., 0., 1., 1., 2., 0., 1., 0., 0., 0., 0., 0., 0., 0., 0., 1.,\n",
              "       1., 0., 0., 0., 0., 1., 0., 0., 0., 0., 0., 0., 0., 0., 0., 0., 0.,\n",
              "       0., 1., 0., 0., 0., 0., 0., 0., 0., 0., 0., 0., 0., 1., 0., 0., 0.,\n",
              "       0., 0., 0., 0., 0., 0., 0., 0., 0., 0., 0., 0., 0., 0., 0., 0., 0.,\n",
              "       0., 0., 0., 0., 0., 0., 0., 0., 0., 0., 0., 0., 0., 0., 0., 0., 0.,\n",
              "       0., 0., 0., 0., 0., 0., 0., 0., 0., 0., 0., 0., 0., 0., 0., 0., 0.,\n",
              "       0., 0., 0., 0., 0., 0., 0., 0., 0., 0., 0., 0., 0., 0., 0., 0., 0.,\n",
              "       0., 0., 0., 0., 0., 0., 0., 0., 0., 0., 0., 0., 0., 0., 0., 0., 0.,\n",
              "       0., 0., 0., 0., 0., 0., 0., 0., 0., 0., 0., 0., 0., 0., 0., 0., 0.,\n",
              "       0., 0., 0., 0., 0., 0., 0., 0., 0., 0., 0., 0., 0., 0., 0., 0., 0.,\n",
              "       0., 0., 0., 0., 0., 0., 0., 0., 0., 0., 0., 0., 0., 0., 0., 0., 0.,\n",
              "       0., 0., 0., 0., 0., 0., 0., 0., 0., 0., 0., 0., 0., 0., 0., 0., 0.,\n",
              "       0., 0., 0., 0., 0., 0., 0., 0., 0., 0., 0., 0., 0., 0., 0., 0., 0.,\n",
              "       0., 0., 0., 0., 0., 0., 0., 0., 0., 0., 0., 0., 0., 0., 0., 0., 0.,\n",
              "       0., 0., 0., 0., 0., 0., 0., 0., 0., 0., 0., 0., 0., 0., 0., 0., 0.,\n",
              "       0., 0., 0., 0., 0., 0., 0., 0., 1.])"
            ]
          },
          "metadata": {},
          "execution_count": 78
        }
      ]
    }
  ],
  "metadata": {
    "accelerator": "GPU",
    "colab": {
      "provenance": []
    },
    "gpuClass": "standard",
    "kernelspec": {
      "display_name": "Python 3",
      "name": "python3"
    },
    "language_info": {
      "name": "python"
    }
  },
  "nbformat": 4,
  "nbformat_minor": 0
}